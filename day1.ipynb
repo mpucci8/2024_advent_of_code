{
 "cells": [
  {
   "cell_type": "code",
   "execution_count": 81,
   "id": "55fb0dcb-d822-4d93-a785-b623043f58e7",
   "metadata": {},
   "outputs": [],
   "source": [
    "import pandas as pd"
   ]
  },
  {
   "cell_type": "code",
   "execution_count": 85,
   "id": "4032142e-52fb-42b5-b6e4-656396abcf2b",
   "metadata": {},
   "outputs": [],
   "source": [
    "input_data_raw = pd.read_csv('desktop/advent_day_1_input_data.csv')"
   ]
  },
  {
   "cell_type": "code",
   "execution_count": 90,
   "id": "e96224b8-a4c3-4b5e-b47f-a6edad75c170",
   "metadata": {},
   "outputs": [
    {
     "data": {
      "text/html": [
       "<div>\n",
       "<style scoped>\n",
       "    .dataframe tbody tr th:only-of-type {\n",
       "        vertical-align: middle;\n",
       "    }\n",
       "\n",
       "    .dataframe tbody tr th {\n",
       "        vertical-align: top;\n",
       "    }\n",
       "\n",
       "    .dataframe thead th {\n",
       "        text-align: right;\n",
       "    }\n",
       "</style>\n",
       "<table border=\"1\" class=\"dataframe\">\n",
       "  <thead>\n",
       "    <tr style=\"text-align: right;\">\n",
       "      <th></th>\n",
       "      <th>Column 1</th>\n",
       "      <th>Column 2</th>\n",
       "      <th>Diff</th>\n",
       "    </tr>\n",
       "  </thead>\n",
       "  <tbody>\n",
       "    <tr>\n",
       "      <th>0</th>\n",
       "      <td>10182.0</td>\n",
       "      <td>10108.0</td>\n",
       "      <td>74</td>\n",
       "    </tr>\n",
       "    <tr>\n",
       "      <th>1</th>\n",
       "      <td>10336.0</td>\n",
       "      <td>10498.0</td>\n",
       "      <td>162</td>\n",
       "    </tr>\n",
       "    <tr>\n",
       "      <th>2</th>\n",
       "      <td>10354.0</td>\n",
       "      <td>10676.0</td>\n",
       "      <td>322</td>\n",
       "    </tr>\n",
       "    <tr>\n",
       "      <th>3</th>\n",
       "      <td>10410.0</td>\n",
       "      <td>10730.0</td>\n",
       "      <td>320</td>\n",
       "    </tr>\n",
       "    <tr>\n",
       "      <th>4</th>\n",
       "      <td>10793.0</td>\n",
       "      <td>10793.0</td>\n",
       "      <td>0</td>\n",
       "    </tr>\n",
       "  </tbody>\n",
       "</table>\n",
       "</div>"
      ],
      "text/plain": [
       "   Column 1  Column 2  Diff\n",
       "0   10182.0   10108.0    74\n",
       "1   10336.0   10498.0   162\n",
       "2   10354.0   10676.0   322\n",
       "3   10410.0   10730.0   320\n",
       "4   10793.0   10793.0     0"
      ]
     },
     "execution_count": 90,
     "metadata": {},
     "output_type": "execute_result"
    }
   ],
   "source": [
    "input_data_raw.head()"
   ]
  },
  {
   "cell_type": "code",
   "execution_count": 107,
   "id": "ca3b9b61-a456-4b23-9ab3-a07211c679d5",
   "metadata": {},
   "outputs": [
    {
     "name": "stdout",
     "output_type": "stream",
     "text": [
      "Column 1\n",
      "10182.0    1\n",
      "69422.0    1\n",
      "68425.0    1\n",
      "68451.0    1\n",
      "68579.0    1\n",
      "          ..\n",
      "39986.0    1\n",
      "40007.0    1\n",
      "40084.0    1\n",
      "40165.0    1\n",
      "99989.0    1\n",
      "Name: count, Length: 1000, dtype: int64\n",
      "Column 1\n",
      "10182.0    1\n",
      "11607.0    1\n",
      "13303.0    1\n",
      "13298.0    1\n",
      "10354.0    1\n",
      "          ..\n",
      "99601.0    1\n",
      "99750.0    1\n",
      "99826.0    1\n",
      "99849.0    1\n",
      "99989.0    1\n",
      "Name: count, Length: 1000, dtype: int64\n"
     ]
    }
   ],
   "source": [
    "col1_count = input_data_raw['Column 1'].value_counts()\n",
    "print(col1_count)\n",
    "col1_count_sorted = col1_count.sort_values(ascending=False)\n",
    "print(col1_count_sorted)"
   ]
  },
  {
   "cell_type": "code",
   "execution_count": 103,
   "id": "63f7438e-a476-4836-af00-2fe781485ce7",
   "metadata": {},
   "outputs": [
    {
     "data": {
      "text/plain": [
       "17191599.0"
      ]
     },
     "execution_count": 103,
     "metadata": {},
     "output_type": "execute_result"
    }
   ],
   "source": [
    "def similarity_score_calc(df, col1, col2): # Write function to calculate similarity score w/3 inputs. A dataframe, col1 (the left column) and col2 (the right column).\n",
    "    col1_count = input_data_raw['Column 1'].value_counts() #count the number of occurences of the column 1\n",
    "\n",
    "    similarity_score_output = 0 #set the score output to 0 prior to calculating\n",
    "\n",
    "    for value in input_data_raw['Column 2']: # loop thru each row of column 2 and check to see if its in col1_count. If it is, take the value and multiply it by the value seen in the matching row in col1_count\n",
    "        if value in col1_count:\n",
    "            similarity_score_output += value * col1_count[value]\n",
    "    \n",
    "    return similarity_score_output\n",
    "\n",
    "similarity_score_output = similarity_score_calc(input_data_raw, 'Column 1', 'Column 2')\n",
    "\n",
    "similarity_score_output\n"
   ]
  }
 ],
 "metadata": {
  "kernelspec": {
   "display_name": "Python 3 (ipykernel)",
   "language": "python",
   "name": "python3"
  },
  "language_info": {
   "codemirror_mode": {
    "name": "ipython",
    "version": 3
   },
   "file_extension": ".py",
   "mimetype": "text/x-python",
   "name": "python",
   "nbconvert_exporter": "python",
   "pygments_lexer": "ipython3",
   "version": "3.12.2"
  }
 },
 "nbformat": 4,
 "nbformat_minor": 5
}
